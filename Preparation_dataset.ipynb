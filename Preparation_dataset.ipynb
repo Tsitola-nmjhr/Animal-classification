{
 "cells": [
  {
   "cell_type": "code",
   "execution_count": 1,
   "id": "21ba9f6c-4d30-4951-a962-8bfaac432b4f",
   "metadata": {},
   "outputs": [],
   "source": [
    "import os\n",
    "import random\n",
    "import shutil\n",
    "from tqdm import tqdm"
   ]
  },
  {
   "cell_type": "code",
   "execution_count": 2,
   "id": "17cfa236-4115-45f3-acf7-fc64608ccd58",
   "metadata": {},
   "outputs": [],
   "source": [
    "root_dir = './dataset/'"
   ]
  },
  {
   "cell_type": "code",
   "execution_count": 3,
   "id": "9f84b714-de4b-46e9-991b-bc7ce9b7ba3c",
   "metadata": {},
   "outputs": [
    {
     "data": {
      "text/plain": [
       "['cane',\n",
       " 'elefante',\n",
       " 'farfalla',\n",
       " 'gallina',\n",
       " 'gatto',\n",
       " 'horse',\n",
       " 'mucca',\n",
       " 'ragno',\n",
       " 'sheep',\n",
       " 'squirrel']"
      ]
     },
     "execution_count": 3,
     "metadata": {},
     "output_type": "execute_result"
    }
   ],
   "source": [
    "path = os.listdir(root_dir)\n",
    "path"
   ]
  },
  {
   "cell_type": "code",
   "execution_count": 4,
   "id": "2f07e97a-521b-41a3-845a-cc853771569b",
   "metadata": {},
   "outputs": [],
   "source": [
    "dossiers_dest = ['train', 'test', 'val']\n",
    "for dossier in dossiers_dest:\n",
    "    os.makedirs(os.path.join(root_dir, dossier), exist_ok=True)\n",
    "\n",
    "for dossier in dossiers_dest:\n",
    "    tmp = f'{root_dir}{dossier}/'\n",
    "    for cat in path:\n",
    "        os.makedirs(os.path.join(tmp, cat), exist_ok=True)"
   ]
  },
  {
   "cell_type": "code",
   "execution_count": 5,
   "id": "964197b8-aa21-4e08-a5da-5a194d41ae39",
   "metadata": {},
   "outputs": [
    {
     "name": "stderr",
     "output_type": "stream",
     "text": [
      "4863it [00:00, 6199.22it/s]\n",
      "1446it [00:00, 5118.53it/s]\n",
      "2112it [00:00, 5882.35it/s]\n",
      "3098it [00:00, 5710.46it/s]\n",
      "1668it [00:00, 6002.12it/s]\n",
      "2623it [00:00, 5260.02it/s]\n",
      "1866it [00:00, 5361.01it/s]\n",
      "4821it [00:00, 6080.29it/s]\n",
      "1820it [00:00, 6228.23it/s]\n",
      "1862it [00:00, 6538.71it/s]\n"
     ]
    }
   ],
   "source": [
    "for categorie in path:\n",
    "    fichiers = os.listdir(os.path.join(root_dir, categorie))\n",
    "    random.shuffle(fichiers)\n",
    "    total_images = len(fichiers)\n",
    "    train_count = int(0.7 * total_images)\n",
    "    test_count = int(0.2 * total_images)\n",
    "    val_count = total_images - train_count - test_count\n",
    "\n",
    "    for i, fichier in tqdm(enumerate(fichiers)):\n",
    "        if i < train_count:\n",
    "            shutil.move(os.path.join(os.path.join(root_dir, categorie), fichier), os.path.join(root_dir, f'train/{categorie}', fichier))\n",
    "        elif i < train_count + test_count:\n",
    "            shutil.move(os.path.join(os.path.join(root_dir, categorie), fichier), os.path.join(root_dir, f'test/{categorie}', fichier))\n",
    "        else:\n",
    "            shutil.move(os.path.join(os.path.join(root_dir, categorie), fichier), os.path.join(root_dir, f'val/{categorie}', fichier))"
   ]
  },
  {
   "cell_type": "code",
   "execution_count": 6,
   "id": "f66d1369-d547-4829-a387-7f1b9acc95d3",
   "metadata": {},
   "outputs": [],
   "source": [
    "for categorie in path:\n",
    "    shutil.rmtree(os.path.join(root_dir, categorie))"
   ]
  }
 ],
 "metadata": {
  "kernelspec": {
   "display_name": "Python 3 (ipykernel)",
   "language": "python",
   "name": "python3"
  },
  "language_info": {
   "codemirror_mode": {
    "name": "ipython",
    "version": 3
   },
   "file_extension": ".py",
   "mimetype": "text/x-python",
   "name": "python",
   "nbconvert_exporter": "python",
   "pygments_lexer": "ipython3",
   "version": "3.9.19"
  }
 },
 "nbformat": 4,
 "nbformat_minor": 5
}
